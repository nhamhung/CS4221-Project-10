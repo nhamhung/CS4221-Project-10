{
 "cells": [
  {
   "cell_type": "code",
   "execution_count": 17,
   "metadata": {},
   "outputs": [],
   "source": [
    "from jsonpath_ng import jsonpath, parse\n",
    "\n",
    "def convert_xpath_to_jsonpath(tokens):\n",
    "    new_tokens = [\"$\"]\n",
    "    for token in tokens:\n",
    "        if token.type == 'ID':\n",
    "            new_tokens.append(token.value)\n",
    "        else:\n",
    "            new_tokens.append(token_map[token.value])\n",
    "    new_tokens = ''.join(new_tokens)\n",
    "    return new_tokens\n",
    "\n",
    "def evaluate_xpath_query(xpath_query, json_data):\n",
    "    lexer = XpathLexer()\n",
    "    xpath_tokens = list(lexer.tokenize(xpath_query))\n",
    "    jsonpath_query = convert_xpath_to_jsonpath(xpath_tokens)\n",
    "    jsonpath_expr = parse(jsonpath_query)\n",
    "    result = [match.value for match in jsonpath_expr.find(json_data)]\n",
    "    return result\n",
    "\n",
    "def evaluate_jsonpath_query(jsonpath_query, json_data):\n",
    "    jsonpath_expr = parse(jsonpath_query)\n",
    "    result = [match.value for match in jsonpath_expr.find(json_data)]\n",
    "    return result"
   ]
  },
  {
   "cell_type": "code",
   "execution_count": 1,
   "metadata": {},
   "outputs": [],
   "source": [
    "from xpath_lexer import *\n",
    "import json\n",
    "\n",
    "with open(\"../tests/data/test2.json\", \"r\") as file:\n",
    "    json_data = json.load(file)\n",
    "\n",
    "token_map = {\n",
    "    \"/\": \".\",\n",
    "    \"//\": \"..\",\n",
    "    \"and\": \"&\",\n",
    "    \"or\": \"|\"\n",
    "}"
   ]
  },
  {
   "cell_type": "code",
   "execution_count": 32,
   "metadata": {},
   "outputs": [
    {
     "data": {
      "text/plain": [
       "'$..[?year>1995&year<1998]'"
      ]
     },
     "execution_count": 32,
     "metadata": {},
     "output_type": "execute_result"
    }
   ],
   "source": [
    "def convert_xpath_to_jsonpath(tokens):\n",
    "    new_tokens = ['$']\n",
    "    i = 0\n",
    "    for token in tokens:\n",
    "        if i == 0 and token.value != \"/\" and token.value != \"//\":\n",
    "            new_tokens.append(\"..\")\n",
    "\n",
    "        if token.value == \"[\":\n",
    "            new_tokens.append(\"[?\")\n",
    "        elif token.value in token_map:\n",
    "            new_tokens.append(token_map[token.value])\n",
    "        else:\n",
    "            new_tokens.append(str(token.value))\n",
    "        i += 1\n",
    "\n",
    "    new_tokens = ''.join(new_tokens)\n",
    "    return new_tokens\n",
    "\n",
    "convert_xpath_to_jsonpath(list(lexer.tokenize('[year>1995 and year<1998]')))"
   ]
  },
  {
   "cell_type": "code",
   "execution_count": 33,
   "metadata": {},
   "outputs": [
    {
     "data": {
      "text/plain": [
       "<xpath_lexer.XpathLexer at 0x7fd347cd4ee0>"
      ]
     },
     "execution_count": 33,
     "metadata": {},
     "output_type": "execute_result"
    }
   ],
   "source": []
  },
  {
   "cell_type": "code",
   "execution_count": 1,
   "metadata": {},
   "outputs": [
    {
     "ename": "TypeError",
     "evalue": "lr_recurse() missing 1 required positional argument: 'result'",
     "output_type": "error",
     "traceback": [
      "\u001b[0;31m---------------------------------------------------------------------------\u001b[0m",
      "\u001b[0;31mTypeError\u001b[0m                                 Traceback (most recent call last)",
      "\u001b[0;32m/var/folders/mn/zf2pptnx7xx_cw417n_ly03r0000gp/T/ipykernel_58710/1609166780.py\u001b[0m in \u001b[0;36m<module>\u001b[0;34m\u001b[0m\n\u001b[1;32m     51\u001b[0m \u001b[0;34m\u001b[0m\u001b[0m\n\u001b[1;32m     52\u001b[0m \u001b[0;34m\u001b[0m\u001b[0m\n\u001b[0;32m---> 53\u001b[0;31m \u001b[0mlr_recurse\u001b[0m\u001b[0;34m(\u001b[0m\u001b[0mtokens\u001b[0m\u001b[0;34m,\u001b[0m \u001b[0;34m\"\"\u001b[0m\u001b[0;34m)\u001b[0m\u001b[0;34m\u001b[0m\u001b[0;34m\u001b[0m\u001b[0m\n\u001b[0m",
      "\u001b[0;32m/var/folders/mn/zf2pptnx7xx_cw417n_ly03r0000gp/T/ipykernel_58710/1609166780.py\u001b[0m in \u001b[0;36mlr_recurse\u001b[0;34m(tokens, result)\u001b[0m\n\u001b[1;32m     29\u001b[0m     \u001b[0;32mif\u001b[0m \u001b[0mtoken\u001b[0m\u001b[0;34m.\u001b[0m\u001b[0mvalue\u001b[0m \u001b[0;34m==\u001b[0m \u001b[0;34m'/'\u001b[0m\u001b[0;34m:\u001b[0m\u001b[0;34m\u001b[0m\u001b[0;34m\u001b[0m\u001b[0m\n\u001b[1;32m     30\u001b[0m         \u001b[0mresult\u001b[0m \u001b[0;34m+=\u001b[0m \u001b[0;34m'.'\u001b[0m\u001b[0;34m\u001b[0m\u001b[0;34m\u001b[0m\u001b[0m\n\u001b[0;32m---> 31\u001b[0;31m         \u001b[0;32mreturn\u001b[0m \u001b[0mlr_recurse\u001b[0m\u001b[0;34m(\u001b[0m\u001b[0mtokens\u001b[0m\u001b[0;34m,\u001b[0m \u001b[0mresult\u001b[0m\u001b[0;34m)\u001b[0m\u001b[0;34m\u001b[0m\u001b[0;34m\u001b[0m\u001b[0m\n\u001b[0m\u001b[1;32m     32\u001b[0m     \u001b[0;32melif\u001b[0m \u001b[0mtoken\u001b[0m\u001b[0;34m.\u001b[0m\u001b[0mvalue\u001b[0m \u001b[0;34m==\u001b[0m \u001b[0;34m'//'\u001b[0m\u001b[0;34m:\u001b[0m\u001b[0;34m\u001b[0m\u001b[0;34m\u001b[0m\u001b[0m\n\u001b[1;32m     33\u001b[0m         \u001b[0mresult\u001b[0m \u001b[0;34m+=\u001b[0m \u001b[0;34m'..'\u001b[0m\u001b[0;34m\u001b[0m\u001b[0;34m\u001b[0m\u001b[0m\n",
      "\u001b[0;32m/var/folders/mn/zf2pptnx7xx_cw417n_ly03r0000gp/T/ipykernel_58710/1609166780.py\u001b[0m in \u001b[0;36mlr_recurse\u001b[0;34m(tokens, result)\u001b[0m\n\u001b[1;32m     35\u001b[0m     \u001b[0;32melif\u001b[0m \u001b[0mtoken\u001b[0m\u001b[0;34m.\u001b[0m\u001b[0mtype\u001b[0m \u001b[0;32min\u001b[0m \u001b[0;34m[\u001b[0m\u001b[0;34m'ID'\u001b[0m\u001b[0;34m,\u001b[0m \u001b[0;34m'NUMBER'\u001b[0m\u001b[0;34m]\u001b[0m\u001b[0;34m:\u001b[0m\u001b[0;34m\u001b[0m\u001b[0;34m\u001b[0m\u001b[0m\n\u001b[1;32m     36\u001b[0m         \u001b[0mresult\u001b[0m \u001b[0;34m+=\u001b[0m \u001b[0mstr\u001b[0m\u001b[0;34m(\u001b[0m\u001b[0mtoken\u001b[0m\u001b[0;34m.\u001b[0m\u001b[0mvalue\u001b[0m\u001b[0;34m)\u001b[0m\u001b[0;34m\u001b[0m\u001b[0;34m\u001b[0m\u001b[0m\n\u001b[0;32m---> 37\u001b[0;31m         \u001b[0;32mreturn\u001b[0m \u001b[0mlr_recurse\u001b[0m\u001b[0;34m(\u001b[0m\u001b[0mtokens\u001b[0m\u001b[0;34m,\u001b[0m \u001b[0mresult\u001b[0m\u001b[0;34m)\u001b[0m\u001b[0;34m\u001b[0m\u001b[0;34m\u001b[0m\u001b[0m\n\u001b[0m\u001b[1;32m     38\u001b[0m     \u001b[0;32melif\u001b[0m \u001b[0mtoken\u001b[0m\u001b[0;34m.\u001b[0m\u001b[0mtype\u001b[0m \u001b[0;34m==\u001b[0m \u001b[0;34m'COUNT'\u001b[0m\u001b[0;34m:\u001b[0m\u001b[0;34m\u001b[0m\u001b[0;34m\u001b[0m\u001b[0m\n\u001b[1;32m     39\u001b[0m         \u001b[0mtokens\u001b[0m\u001b[0;34m.\u001b[0m\u001b[0mpop\u001b[0m\u001b[0;34m(\u001b[0m\u001b[0;36m0\u001b[0m\u001b[0;34m)\u001b[0m\u001b[0;34m\u001b[0m\u001b[0;34m\u001b[0m\u001b[0m\n",
      "\u001b[0;32m/var/folders/mn/zf2pptnx7xx_cw417n_ly03r0000gp/T/ipykernel_58710/1609166780.py\u001b[0m in \u001b[0;36mlr_recurse\u001b[0;34m(tokens, result)\u001b[0m\n\u001b[1;32m     29\u001b[0m     \u001b[0;32mif\u001b[0m \u001b[0mtoken\u001b[0m\u001b[0;34m.\u001b[0m\u001b[0mvalue\u001b[0m \u001b[0;34m==\u001b[0m \u001b[0;34m'/'\u001b[0m\u001b[0;34m:\u001b[0m\u001b[0;34m\u001b[0m\u001b[0;34m\u001b[0m\u001b[0m\n\u001b[1;32m     30\u001b[0m         \u001b[0mresult\u001b[0m \u001b[0;34m+=\u001b[0m \u001b[0;34m'.'\u001b[0m\u001b[0;34m\u001b[0m\u001b[0;34m\u001b[0m\u001b[0m\n\u001b[0;32m---> 31\u001b[0;31m         \u001b[0;32mreturn\u001b[0m \u001b[0mlr_recurse\u001b[0m\u001b[0;34m(\u001b[0m\u001b[0mtokens\u001b[0m\u001b[0;34m,\u001b[0m \u001b[0mresult\u001b[0m\u001b[0;34m)\u001b[0m\u001b[0;34m\u001b[0m\u001b[0;34m\u001b[0m\u001b[0m\n\u001b[0m\u001b[1;32m     32\u001b[0m     \u001b[0;32melif\u001b[0m \u001b[0mtoken\u001b[0m\u001b[0;34m.\u001b[0m\u001b[0mvalue\u001b[0m \u001b[0;34m==\u001b[0m \u001b[0;34m'//'\u001b[0m\u001b[0;34m:\u001b[0m\u001b[0;34m\u001b[0m\u001b[0;34m\u001b[0m\u001b[0m\n\u001b[1;32m     33\u001b[0m         \u001b[0mresult\u001b[0m \u001b[0;34m+=\u001b[0m \u001b[0;34m'..'\u001b[0m\u001b[0;34m\u001b[0m\u001b[0;34m\u001b[0m\u001b[0m\n",
      "\u001b[0;32m/var/folders/mn/zf2pptnx7xx_cw417n_ly03r0000gp/T/ipykernel_58710/1609166780.py\u001b[0m in \u001b[0;36mlr_recurse\u001b[0;34m(tokens, result)\u001b[0m\n\u001b[1;32m     35\u001b[0m     \u001b[0;32melif\u001b[0m \u001b[0mtoken\u001b[0m\u001b[0;34m.\u001b[0m\u001b[0mtype\u001b[0m \u001b[0;32min\u001b[0m \u001b[0;34m[\u001b[0m\u001b[0;34m'ID'\u001b[0m\u001b[0;34m,\u001b[0m \u001b[0;34m'NUMBER'\u001b[0m\u001b[0;34m]\u001b[0m\u001b[0;34m:\u001b[0m\u001b[0;34m\u001b[0m\u001b[0;34m\u001b[0m\u001b[0m\n\u001b[1;32m     36\u001b[0m         \u001b[0mresult\u001b[0m \u001b[0;34m+=\u001b[0m \u001b[0mstr\u001b[0m\u001b[0;34m(\u001b[0m\u001b[0mtoken\u001b[0m\u001b[0;34m.\u001b[0m\u001b[0mvalue\u001b[0m\u001b[0;34m)\u001b[0m\u001b[0;34m\u001b[0m\u001b[0;34m\u001b[0m\u001b[0m\n\u001b[0;32m---> 37\u001b[0;31m         \u001b[0;32mreturn\u001b[0m \u001b[0mlr_recurse\u001b[0m\u001b[0;34m(\u001b[0m\u001b[0mtokens\u001b[0m\u001b[0;34m,\u001b[0m \u001b[0mresult\u001b[0m\u001b[0;34m)\u001b[0m\u001b[0;34m\u001b[0m\u001b[0;34m\u001b[0m\u001b[0m\n\u001b[0m\u001b[1;32m     38\u001b[0m     \u001b[0;32melif\u001b[0m \u001b[0mtoken\u001b[0m\u001b[0;34m.\u001b[0m\u001b[0mtype\u001b[0m \u001b[0;34m==\u001b[0m \u001b[0;34m'COUNT'\u001b[0m\u001b[0;34m:\u001b[0m\u001b[0;34m\u001b[0m\u001b[0;34m\u001b[0m\u001b[0m\n\u001b[1;32m     39\u001b[0m         \u001b[0mtokens\u001b[0m\u001b[0;34m.\u001b[0m\u001b[0mpop\u001b[0m\u001b[0;34m(\u001b[0m\u001b[0;36m0\u001b[0m\u001b[0;34m)\u001b[0m\u001b[0;34m\u001b[0m\u001b[0;34m\u001b[0m\u001b[0m\n",
      "\u001b[0;32m/var/folders/mn/zf2pptnx7xx_cw417n_ly03r0000gp/T/ipykernel_58710/1609166780.py\u001b[0m in \u001b[0;36mlr_recurse\u001b[0;34m(tokens, result)\u001b[0m\n\u001b[1;32m     48\u001b[0m         \u001b[0mresult\u001b[0m \u001b[0;34m+=\u001b[0m \u001b[0mstr\u001b[0m\u001b[0;34m(\u001b[0m\u001b[0mtoken\u001b[0m\u001b[0;34m.\u001b[0m\u001b[0mvalue\u001b[0m\u001b[0;34m)\u001b[0m\u001b[0;34m\u001b[0m\u001b[0;34m\u001b[0m\u001b[0m\n\u001b[1;32m     49\u001b[0m         \u001b[0mresult\u001b[0m \u001b[0;34m+=\u001b[0m \u001b[0;34m\"?\"\u001b[0m\u001b[0;34m\u001b[0m\u001b[0;34m\u001b[0m\u001b[0m\n\u001b[0;32m---> 50\u001b[0;31m         \u001b[0;32mreturn\u001b[0m \u001b[0mlr_recurse\u001b[0m\u001b[0;34m(\u001b[0m\u001b[0mtokens\u001b[0m\u001b[0;34m,\u001b[0m \u001b[0mresult\u001b[0m\u001b[0;34m)\u001b[0m\u001b[0;34m\u001b[0m\u001b[0;34m\u001b[0m\u001b[0m\n\u001b[0m\u001b[1;32m     51\u001b[0m \u001b[0;34m\u001b[0m\u001b[0m\n\u001b[1;32m     52\u001b[0m \u001b[0;34m\u001b[0m\u001b[0m\n",
      "\u001b[0;32m/var/folders/mn/zf2pptnx7xx_cw417n_ly03r0000gp/T/ipykernel_58710/1609166780.py\u001b[0m in \u001b[0;36mlr_recurse\u001b[0;34m(tokens, result)\u001b[0m\n\u001b[1;32m     40\u001b[0m         \u001b[0mclosing_bracket_pos\u001b[0m \u001b[0;34m=\u001b[0m \u001b[0mextract_count\u001b[0m\u001b[0;34m(\u001b[0m\u001b[0mtokens\u001b[0m\u001b[0;34m)\u001b[0m\u001b[0;34m\u001b[0m\u001b[0;34m\u001b[0m\u001b[0m\n\u001b[1;32m     41\u001b[0m         \u001b[0mcount_condition_tokens\u001b[0m \u001b[0;34m=\u001b[0m \u001b[0mtokens\u001b[0m\u001b[0;34m[\u001b[0m\u001b[0;36m0\u001b[0m\u001b[0;34m:\u001b[0m\u001b[0mclosing_bracket_pos\u001b[0m\u001b[0;34m]\u001b[0m\u001b[0;34m\u001b[0m\u001b[0;34m\u001b[0m\u001b[0m\n\u001b[0;32m---> 42\u001b[0;31m         \u001b[0mresult\u001b[0m \u001b[0;34m+=\u001b[0m \u001b[0mparse_count_condition\u001b[0m\u001b[0;34m(\u001b[0m\u001b[0mcount_condition_tokens\u001b[0m\u001b[0;34m)\u001b[0m\u001b[0;34m\u001b[0m\u001b[0;34m\u001b[0m\u001b[0m\n\u001b[0m\u001b[1;32m     43\u001b[0m         \u001b[0;32mreturn\u001b[0m \u001b[0mlr_recurse\u001b[0m\u001b[0;34m(\u001b[0m\u001b[0mtokens\u001b[0m\u001b[0;34m[\u001b[0m\u001b[0mclosing_bracket_pos\u001b[0m\u001b[0;34m+\u001b[0m\u001b[0;36m1\u001b[0m\u001b[0;34m:\u001b[0m\u001b[0;34m]\u001b[0m\u001b[0;34m,\u001b[0m \u001b[0mresult\u001b[0m\u001b[0;34m)\u001b[0m\u001b[0;34m\u001b[0m\u001b[0;34m\u001b[0m\u001b[0m\n\u001b[1;32m     44\u001b[0m     \u001b[0;32melif\u001b[0m \u001b[0mtoken\u001b[0m\u001b[0;34m.\u001b[0m\u001b[0mvalue\u001b[0m \u001b[0;32min\u001b[0m \u001b[0;34m[\u001b[0m\u001b[0;34m'>'\u001b[0m\u001b[0;34m,\u001b[0m \u001b[0;34m'<'\u001b[0m\u001b[0;34m,\u001b[0m \u001b[0;34m'<='\u001b[0m\u001b[0;34m,\u001b[0m \u001b[0;34m'>='\u001b[0m\u001b[0;34m,\u001b[0m \u001b[0;34m']'\u001b[0m\u001b[0;34m]\u001b[0m\u001b[0;34m:\u001b[0m\u001b[0;34m\u001b[0m\u001b[0;34m\u001b[0m\u001b[0m\n",
      "\u001b[0;32m/var/folders/mn/zf2pptnx7xx_cw417n_ly03r0000gp/T/ipykernel_58710/1609166780.py\u001b[0m in \u001b[0;36mparse_count_condition\u001b[0;34m(tokens)\u001b[0m\n\u001b[1;32m     20\u001b[0m     \u001b[0mtokens\u001b[0m\u001b[0;34m.\u001b[0m\u001b[0mpop\u001b[0m\u001b[0;34m(\u001b[0m\u001b[0;34m)\u001b[0m\u001b[0;34m\u001b[0m\u001b[0;34m\u001b[0m\u001b[0m\n\u001b[1;32m     21\u001b[0m     \u001b[0mtokens\u001b[0m\u001b[0;34m.\u001b[0m\u001b[0mpop\u001b[0m\u001b[0;34m(\u001b[0m\u001b[0;34m)\u001b[0m\u001b[0;34m\u001b[0m\u001b[0;34m\u001b[0m\u001b[0m\n\u001b[0;32m---> 22\u001b[0;31m     \u001b[0;32mreturn\u001b[0m \u001b[0mlr_recurse\u001b[0m\u001b[0;34m(\u001b[0m\u001b[0mtokens\u001b[0m\u001b[0;34m)\u001b[0m \u001b[0;34m+\u001b[0m \u001b[0;34m\".`len`\"\u001b[0m\u001b[0;34m\u001b[0m\u001b[0;34m\u001b[0m\u001b[0m\n\u001b[0m\u001b[1;32m     23\u001b[0m \u001b[0;34m\u001b[0m\u001b[0m\n\u001b[1;32m     24\u001b[0m \u001b[0;32mdef\u001b[0m \u001b[0mlr_recurse\u001b[0m\u001b[0;34m(\u001b[0m\u001b[0mtokens\u001b[0m\u001b[0;34m,\u001b[0m \u001b[0mresult\u001b[0m\u001b[0;34m)\u001b[0m\u001b[0;34m:\u001b[0m\u001b[0;34m\u001b[0m\u001b[0;34m\u001b[0m\u001b[0m\n",
      "\u001b[0;31mTypeError\u001b[0m: lr_recurse() missing 1 required positional argument: 'result'"
     ]
    }
   ],
   "source": [
    "from xpath_lexer import *\n",
    "path = \"/library/album[count(songs/song)>=4]/title\"\n",
    "lexer = XpathLexer()\n",
    "tokens = list(lexer.tokenize(path))\n",
    "\n",
    "def extract_count(tokens):\n",
    "    bracket_count = 1\n",
    "    pos = 0\n",
    "    for token in tokens:\n",
    "        if token.type == '(':\n",
    "            bracket_count += 1\n",
    "        elif token.type == ')':\n",
    "            bracket_count -= 1\n",
    "\n",
    "        if bracket_count == 0:\n",
    "            return pos\n",
    "        pos += 1\n",
    "\n",
    "def parse_count_condition(tokens):\n",
    "    tokens.pop()\n",
    "    tokens.pop()\n",
    "    return lr_recurse(tokens, \"\") + \".`len`\"\n",
    "\n",
    "def lr_recurse(tokens, result):\n",
    "    if not tokens:\n",
    "        return result\n",
    "    \n",
    "    token = tokens.pop(0)\n",
    "    if token.value == '/':\n",
    "        result += '.'\n",
    "        return lr_recurse(tokens, result)\n",
    "    elif token.value == '//':\n",
    "        result += '..'\n",
    "        return lr_recurse(tokens, result)\n",
    "    elif token.type in ['ID', 'NUMBER']:\n",
    "        result += str(token.value)\n",
    "        return lr_recurse(tokens, result)\n",
    "    elif token.type == 'COUNT':\n",
    "        tokens.pop(0)\n",
    "        closing_bracket_pos = extract_count(tokens)\n",
    "        count_condition_tokens = tokens[0:closing_bracket_pos]\n",
    "        result += parse_count_condition(count_condition_tokens)\n",
    "        return lr_recurse(tokens[closing_bracket_pos+1:], result)\n",
    "    elif token.value in ['>', '<', '<=', '>=', ']']:\n",
    "        result += str(token.value)\n",
    "        return lr_recurse(tokens, result)\n",
    "    elif token.value in ['[']:\n",
    "        result += str(token.value)\n",
    "        result += \"?\"\n",
    "        return lr_recurse(tokens, result)\n",
    "\n",
    "\n",
    "lr_recurse(tokens, \"\")"
   ]
  },
  {
   "cell_type": "code",
   "execution_count": 9,
   "metadata": {},
   "outputs": [
    {
     "ename": "AttributeError",
     "evalue": "'int' object has no attribute 'pop'",
     "output_type": "error",
     "traceback": [
      "\u001b[0;31m---------------------------------------------------------------------------\u001b[0m",
      "\u001b[0;31mAttributeError\u001b[0m                            Traceback (most recent call last)",
      "\u001b[0;32m/var/folders/mn/zf2pptnx7xx_cw417n_ly03r0000gp/T/ipykernel_58288/2057048423.py\u001b[0m in \u001b[0;36m<module>\u001b[0;34m\u001b[0m\n\u001b[0;32m----> 1\u001b[0;31m \u001b[0;34m[\u001b[0m\u001b[0;36m1\u001b[0m\u001b[0;34m,\u001b[0m\u001b[0;36m2\u001b[0m\u001b[0;34m]\u001b[0m\u001b[0;34m.\u001b[0m\u001b[0mpop\u001b[0m\u001b[0;34m(\u001b[0m\u001b[0;34m)\u001b[0m\u001b[0;34m.\u001b[0m\u001b[0mpop\u001b[0m\u001b[0;34m(\u001b[0m\u001b[0;34m)\u001b[0m\u001b[0;34m\u001b[0m\u001b[0;34m\u001b[0m\u001b[0m\n\u001b[0m",
      "\u001b[0;31mAttributeError\u001b[0m: 'int' object has no attribute 'pop'"
     ]
    }
   ],
   "source": [
    "[1,2].pop()"
   ]
  },
  {
   "cell_type": "code",
   "execution_count": 7,
   "metadata": {},
   "outputs": [
    {
     "data": {
      "text/plain": [
       "6"
      ]
     },
     "execution_count": 7,
     "metadata": {},
     "output_type": "execute_result"
    }
   ],
   "source": [
    "extract_count(lexer.tokenize(\"a()b())c\"))"
   ]
  },
  {
   "cell_type": "code",
   "execution_count": 20,
   "metadata": {},
   "outputs": [
    {
     "data": {
      "text/plain": [
       "[LexToken([,'[',1,0),\n",
       " LexToken(ID,'year',1,1),\n",
       " LexToken(>,'>',1,5),\n",
       " LexToken(NUMBER,1995,1,6),\n",
       " LexToken(AND,'and',1,11),\n",
       " LexToken(ID,'year',1,15),\n",
       " LexToken(<,'<',1,19),\n",
       " LexToken(NUMBER,1998,1,20),\n",
       " LexToken(],']',1,24)]"
      ]
     },
     "execution_count": 20,
     "metadata": {},
     "output_type": "execute_result"
    }
   ],
   "source": [
    "lexer = XpathLexer()\n",
    "# list(lexer.tokenize('foo[abc>1 and abc<12]'))\n",
    "list(lexer.tokenize('[year>1995 and year<1998]'))"
   ]
  },
  {
   "cell_type": "code",
   "execution_count": null,
   "metadata": {},
   "outputs": [],
   "source": [
    "# [year>1995 and year<1998] -> [?year>1995&year<1998]"
   ]
  },
  {
   "cell_type": "code",
   "execution_count": null,
   "metadata": {},
   "outputs": [],
   "source": [
    "evaluate_jsonpath_query('', json_data)"
   ]
  },
  {
   "cell_type": "code",
   "execution_count": 12,
   "metadata": {},
   "outputs": [
    {
     "ename": "ImportError",
     "evalue": "cannot import name '_get_object_size' from 'bson' (/opt/anaconda3/envs/covidRL/lib/python3.9/site-packages/bson/__init__.py)",
     "output_type": "error",
     "traceback": [
      "\u001b[0;31m---------------------------------------------------------------------------\u001b[0m",
      "\u001b[0;31mImportError\u001b[0m                               Traceback (most recent call last)",
      "\u001b[0;32m/var/folders/mn/zf2pptnx7xx_cw417n_ly03r0000gp/T/ipykernel_51247/1959880152.py\u001b[0m in \u001b[0;36m<module>\u001b[0;34m\u001b[0m\n\u001b[0;32m----> 1\u001b[0;31m \u001b[0;32mimport\u001b[0m \u001b[0mpymongo\u001b[0m\u001b[0;34m\u001b[0m\u001b[0;34m\u001b[0m\u001b[0m\n\u001b[0m\u001b[1;32m      2\u001b[0m \u001b[0mdb_name\u001b[0m\u001b[0;34m=\u001b[0m\u001b[0;34m'test'\u001b[0m\u001b[0;34m\u001b[0m\u001b[0;34m\u001b[0m\u001b[0m\n\u001b[1;32m      3\u001b[0m \u001b[0mtest_client\u001b[0m \u001b[0;34m=\u001b[0m \u001b[0mpymongo\u001b[0m\u001b[0;34m.\u001b[0m\u001b[0mMongoClient\u001b[0m\u001b[0;34m(\u001b[0m\u001b[0;34m'mongodb://localhost:27017/'\u001b[0m\u001b[0;34m)\u001b[0m\u001b[0;34m\u001b[0m\u001b[0;34m\u001b[0m\u001b[0m\n\u001b[1;32m      4\u001b[0m \u001b[0mtest_db\u001b[0m \u001b[0;34m=\u001b[0m \u001b[0mtest_client\u001b[0m\u001b[0;34m[\u001b[0m\u001b[0mdb_name\u001b[0m\u001b[0;34m]\u001b[0m\u001b[0;34m\u001b[0m\u001b[0;34m\u001b[0m\u001b[0m\n\u001b[1;32m      5\u001b[0m \u001b[0;34m\u001b[0m\u001b[0m\n",
      "\u001b[0;32m/opt/anaconda3/envs/covidRL/lib/python3.9/site-packages/pymongo/__init__.py\u001b[0m in \u001b[0;36m<module>\u001b[0;34m\u001b[0m\n\u001b[1;32m     66\u001b[0m \u001b[0;34m\"\"\"Current version of PyMongo.\"\"\"\u001b[0m\u001b[0;34m\u001b[0m\u001b[0;34m\u001b[0m\u001b[0m\n\u001b[1;32m     67\u001b[0m \u001b[0;34m\u001b[0m\u001b[0m\n\u001b[0;32m---> 68\u001b[0;31m \u001b[0;32mfrom\u001b[0m \u001b[0mpymongo\u001b[0m\u001b[0;34m.\u001b[0m\u001b[0mcollection\u001b[0m \u001b[0;32mimport\u001b[0m \u001b[0mReturnDocument\u001b[0m\u001b[0;34m\u001b[0m\u001b[0;34m\u001b[0m\u001b[0m\n\u001b[0m\u001b[1;32m     69\u001b[0m \u001b[0;32mfrom\u001b[0m \u001b[0mpymongo\u001b[0m\u001b[0;34m.\u001b[0m\u001b[0mcommon\u001b[0m \u001b[0;32mimport\u001b[0m \u001b[0mMAX_SUPPORTED_WIRE_VERSION\u001b[0m\u001b[0;34m,\u001b[0m \u001b[0mMIN_SUPPORTED_WIRE_VERSION\u001b[0m\u001b[0;34m\u001b[0m\u001b[0;34m\u001b[0m\u001b[0m\n\u001b[1;32m     70\u001b[0m \u001b[0;32mfrom\u001b[0m \u001b[0mpymongo\u001b[0m\u001b[0;34m.\u001b[0m\u001b[0mcursor\u001b[0m \u001b[0;32mimport\u001b[0m \u001b[0mCursorType\u001b[0m\u001b[0;34m\u001b[0m\u001b[0;34m\u001b[0m\u001b[0m\n",
      "\u001b[0;32m/opt/anaconda3/envs/covidRL/lib/python3.9/site-packages/pymongo/collection.py\u001b[0m in \u001b[0;36m<module>\u001b[0;34m\u001b[0m\n\u001b[1;32m     22\u001b[0m \u001b[0;32mfrom\u001b[0m \u001b[0mbson\u001b[0m\u001b[0;34m.\u001b[0m\u001b[0mcodec_options\u001b[0m \u001b[0;32mimport\u001b[0m \u001b[0mCodecOptions\u001b[0m\u001b[0;34m\u001b[0m\u001b[0;34m\u001b[0m\u001b[0m\n\u001b[1;32m     23\u001b[0m \u001b[0;32mfrom\u001b[0m \u001b[0mbson\u001b[0m\u001b[0;34m.\u001b[0m\u001b[0mobjectid\u001b[0m \u001b[0;32mimport\u001b[0m \u001b[0mObjectId\u001b[0m\u001b[0;34m\u001b[0m\u001b[0;34m\u001b[0m\u001b[0m\n\u001b[0;32m---> 24\u001b[0;31m \u001b[0;32mfrom\u001b[0m \u001b[0mbson\u001b[0m\u001b[0;34m.\u001b[0m\u001b[0mraw_bson\u001b[0m \u001b[0;32mimport\u001b[0m \u001b[0mRawBSONDocument\u001b[0m\u001b[0;34m\u001b[0m\u001b[0;34m\u001b[0m\u001b[0m\n\u001b[0m\u001b[1;32m     25\u001b[0m \u001b[0;32mfrom\u001b[0m \u001b[0mbson\u001b[0m\u001b[0;34m.\u001b[0m\u001b[0mson\u001b[0m \u001b[0;32mimport\u001b[0m \u001b[0mSON\u001b[0m\u001b[0;34m\u001b[0m\u001b[0;34m\u001b[0m\u001b[0m\n\u001b[1;32m     26\u001b[0m \u001b[0;32mfrom\u001b[0m \u001b[0mpymongo\u001b[0m \u001b[0;32mimport\u001b[0m \u001b[0mcommon\u001b[0m\u001b[0;34m,\u001b[0m \u001b[0mhelpers\u001b[0m\u001b[0;34m,\u001b[0m \u001b[0mmessage\u001b[0m\u001b[0;34m\u001b[0m\u001b[0;34m\u001b[0m\u001b[0m\n",
      "\u001b[0;32m/opt/anaconda3/envs/covidRL/lib/python3.9/site-packages/bson/raw_bson.py\u001b[0m in \u001b[0;36m<module>\u001b[0;34m\u001b[0m\n\u001b[1;32m     54\u001b[0m \u001b[0;32mfrom\u001b[0m \u001b[0mcollections\u001b[0m\u001b[0;34m.\u001b[0m\u001b[0mabc\u001b[0m \u001b[0;32mimport\u001b[0m \u001b[0mMapping\u001b[0m \u001b[0;32mas\u001b[0m \u001b[0m_Mapping\u001b[0m\u001b[0;34m\u001b[0m\u001b[0;34m\u001b[0m\u001b[0m\n\u001b[1;32m     55\u001b[0m \u001b[0;34m\u001b[0m\u001b[0m\n\u001b[0;32m---> 56\u001b[0;31m \u001b[0;32mfrom\u001b[0m \u001b[0mbson\u001b[0m \u001b[0;32mimport\u001b[0m \u001b[0m_get_object_size\u001b[0m\u001b[0;34m,\u001b[0m \u001b[0m_raw_to_dict\u001b[0m\u001b[0;34m\u001b[0m\u001b[0;34m\u001b[0m\u001b[0m\n\u001b[0m\u001b[1;32m     57\u001b[0m \u001b[0;32mfrom\u001b[0m \u001b[0mbson\u001b[0m\u001b[0;34m.\u001b[0m\u001b[0mcodec_options\u001b[0m \u001b[0;32mimport\u001b[0m \u001b[0m_RAW_BSON_DOCUMENT_MARKER\u001b[0m\u001b[0;34m\u001b[0m\u001b[0;34m\u001b[0m\u001b[0m\n\u001b[1;32m     58\u001b[0m \u001b[0;32mfrom\u001b[0m \u001b[0mbson\u001b[0m\u001b[0;34m.\u001b[0m\u001b[0mcodec_options\u001b[0m \u001b[0;32mimport\u001b[0m \u001b[0mDEFAULT_CODEC_OPTIONS\u001b[0m \u001b[0;32mas\u001b[0m \u001b[0mDEFAULT\u001b[0m\u001b[0;34m\u001b[0m\u001b[0;34m\u001b[0m\u001b[0m\n",
      "\u001b[0;31mImportError\u001b[0m: cannot import name '_get_object_size' from 'bson' (/opt/anaconda3/envs/covidRL/lib/python3.9/site-packages/bson/__init__.py)"
     ]
    }
   ],
   "source": [
    "import pymongo\n",
    "db_name='test'\n",
    "test_client = pymongo.MongoClient('mongodb://localhost:27017/')\n",
    "test_db = test_client[db_name]\n",
    "\n",
    "def check_for_db(test_client,db_name):\n",
    "    dblist = test_client.list_database_names()\n",
    "    if db_name in dblist:\n",
    "        print(db_name + ' ← database exists')\n",
    "    else:\n",
    "        print(db_name + ' ← database does NOT exists')\n",
    "check_for_db(test_client,db_name) # check if database exists or not"
   ]
  },
  {
   "cell_type": "code",
   "execution_count": 97,
   "metadata": {},
   "outputs": [],
   "source": [
    "from bson.json_util import dumps\n",
    "\n",
    "collection = test_db.get_collection('library')\n",
    "data = dumps(list(collection.find()))\n",
    "json_data = json.loads(data)"
   ]
  },
  {
   "cell_type": "code",
   "execution_count": 11,
   "metadata": {},
   "outputs": [
    {
     "name": "stdout",
     "output_type": "stream",
     "text": [
      "Found existing installation: bson 0.5.10\n",
      "Uninstalling bson-0.5.10:\n",
      "  Would remove:\n",
      "    /opt/anaconda3/envs/covidRL/lib/python3.9/site-packages/bson-0.5.10.dist-info/*\n",
      "    /opt/anaconda3/envs/covidRL/lib/python3.9/site-packages/bson/*\n",
      "  Would not remove (might be manually added):\n",
      "    /opt/anaconda3/envs/covidRL/lib/python3.9/site-packages/bson/_cbson.cpython-39-darwin.so\n",
      "    /opt/anaconda3/envs/covidRL/lib/python3.9/site-packages/bson/_helpers.py\n",
      "    /opt/anaconda3/envs/covidRL/lib/python3.9/site-packages/bson/binary.py\n",
      "    /opt/anaconda3/envs/covidRL/lib/python3.9/site-packages/bson/code.py\n",
      "    /opt/anaconda3/envs/covidRL/lib/python3.9/site-packages/bson/codec_options.py\n",
      "    /opt/anaconda3/envs/covidRL/lib/python3.9/site-packages/bson/dbref.py\n",
      "    /opt/anaconda3/envs/covidRL/lib/python3.9/site-packages/bson/decimal128.py\n",
      "    /opt/anaconda3/envs/covidRL/lib/python3.9/site-packages/bson/errors.py\n",
      "    /opt/anaconda3/envs/covidRL/lib/python3.9/site-packages/bson/int64.py\n",
      "    /opt/anaconda3/envs/covidRL/lib/python3.9/site-packages/bson/json_util.py\n",
      "    /opt/anaconda3/envs/covidRL/lib/python3.9/site-packages/bson/max_key.py\n",
      "    /opt/anaconda3/envs/covidRL/lib/python3.9/site-packages/bson/min_key.py\n",
      "    /opt/anaconda3/envs/covidRL/lib/python3.9/site-packages/bson/raw_bson.py\n",
      "    /opt/anaconda3/envs/covidRL/lib/python3.9/site-packages/bson/regex.py\n",
      "    /opt/anaconda3/envs/covidRL/lib/python3.9/site-packages/bson/son.py\n",
      "    /opt/anaconda3/envs/covidRL/lib/python3.9/site-packages/bson/timestamp.py\n",
      "Proceed (Y/n)? ^C\n",
      "\u001b[31mERROR: Operation cancelled by user\u001b[0m\n"
     ]
    }
   ],
   "source": [
    "!pip uninstall bson"
   ]
  },
  {
   "cell_type": "code",
   "execution_count": 111,
   "metadata": {},
   "outputs": [
    {
     "data": {
      "text/plain": [
       "[{'name': 'Siti Nurhaliza', 'country': 'Malaysia'},\n",
       " {'name': 'Wham!', 'country': 'United Kingdom'},\n",
       " {'name': 'Anang Ashanty', 'country': 'Indonesia'},\n",
       " {'name': 'Anggun', 'country': 'Indonesia'},\n",
       " {'name': 'Job Bunjob Pholin', 'country': 'Thailand'},\n",
       " [{'name': 'Anang Ashanty', 'country': 'Indonesia'},\n",
       "  {'name': 'Kris Dayanti', 'country': 'Indonesia'}]]"
      ]
     },
     "execution_count": 111,
     "metadata": {},
     "output_type": "execute_result"
    }
   ],
   "source": [
    "xpath_query = \"//artists/artist\"\n",
    "evaluate_xpath_query(xpath_query)"
   ]
  },
  {
   "cell_type": "code",
   "execution_count": null,
   "metadata": {},
   "outputs": [],
   "source": []
  }
 ],
 "metadata": {
  "interpreter": {
   "hash": "d97dbaaf0f8d39e846d8bff06dfa96e0d39161eb68e322a2f5c8dc0058611f2b"
  },
  "kernelspec": {
   "display_name": "Python 3.9.7 ('covidRL')",
   "language": "python",
   "name": "python3"
  },
  "language_info": {
   "codemirror_mode": {
    "name": "ipython",
    "version": 3
   },
   "file_extension": ".py",
   "mimetype": "text/x-python",
   "name": "python",
   "nbconvert_exporter": "python",
   "pygments_lexer": "ipython3",
   "version": "3.9.7"
  },
  "orig_nbformat": 4
 },
 "nbformat": 4,
 "nbformat_minor": 2
}
